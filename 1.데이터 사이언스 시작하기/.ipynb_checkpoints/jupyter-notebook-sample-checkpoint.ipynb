{
 "cells": [
  {
   "cell_type": "markdown",
   "id": "ordinary-matthew",
   "metadata": {},
   "source": [
    "# Title\n",
    "## Title2\n",
    "### title 3\n",
    "\n",
    "Hello World"
   ]
  },
  {
   "cell_type": "markdown",
   "id": "excess-panel",
   "metadata": {},
   "source": [
    "This is **Bold** *italic*"
   ]
  },
  {
   "cell_type": "markdown",
   "id": "harmful-blowing",
   "metadata": {},
   "source": [
    "List\n",
    "* item 1\n",
    "* item 2"
   ]
  },
  {
   "cell_type": "code",
   "execution_count": 10,
   "id": "functioning-ultimate",
   "metadata": {},
   "outputs": [],
   "source": [
    "x = 17\n"
   ]
  },
  {
   "cell_type": "code",
   "execution_count": 11,
   "id": "graduate-spray",
   "metadata": {},
   "outputs": [
    {
     "name": "stdout",
     "output_type": "stream",
     "text": [
      "17\n"
     ]
    }
   ],
   "source": [
    "print(x)"
   ]
  },
  {
   "cell_type": "code",
   "execution_count": 12,
   "id": "miniature-stylus",
   "metadata": {},
   "outputs": [
    {
     "data": {
      "text/plain": [
       "17"
      ]
     },
     "execution_count": 12,
     "metadata": {},
     "output_type": "execute_result"
    }
   ],
   "source": [
    "x"
   ]
  },
  {
   "cell_type": "code",
   "execution_count": 13,
   "id": "dried-party",
   "metadata": {},
   "outputs": [
    {
     "data": {
      "text/plain": [
       "17"
      ]
     },
     "execution_count": 13,
     "metadata": {},
     "output_type": "execute_result"
    }
   ],
   "source": [
    "x\n",
    "x\n",
    "x"
   ]
  },
  {
   "cell_type": "code",
   "execution_count": 1,
   "id": "phantom-fever",
   "metadata": {},
   "outputs": [],
   "source": [
    "import pandas as pd\n",
    "df = pd.read_csv('data/liverpool.csv')"
   ]
  },
  {
   "cell_type": "code",
   "execution_count": 2,
   "id": "acute-chuck",
   "metadata": {},
   "outputs": [
    {
     "data": {
      "text/html": [
       "<div>\n",
       "<style scoped>\n",
       "    .dataframe tbody tr th:only-of-type {\n",
       "        vertical-align: middle;\n",
       "    }\n",
       "\n",
       "    .dataframe tbody tr th {\n",
       "        vertical-align: top;\n",
       "    }\n",
       "\n",
       "    .dataframe thead th {\n",
       "        text-align: right;\n",
       "    }\n",
       "</style>\n",
       "<table border=\"1\" class=\"dataframe\">\n",
       "  <thead>\n",
       "    <tr style=\"text-align: right;\">\n",
       "      <th></th>\n",
       "      <th>Name</th>\n",
       "      <th>Position</th>\n",
       "      <th>Born</th>\n",
       "      <th>Number</th>\n",
       "      <th>Nationality</th>\n",
       "    </tr>\n",
       "  </thead>\n",
       "  <tbody>\n",
       "    <tr>\n",
       "      <th>0</th>\n",
       "      <td>Roberto Firmino</td>\n",
       "      <td>FW</td>\n",
       "      <td>1991</td>\n",
       "      <td>no. 9</td>\n",
       "      <td>Brazil</td>\n",
       "    </tr>\n",
       "    <tr>\n",
       "      <th>1</th>\n",
       "      <td>Sadio Mane</td>\n",
       "      <td>FW</td>\n",
       "      <td>1992</td>\n",
       "      <td>no. 10</td>\n",
       "      <td>Senegal</td>\n",
       "    </tr>\n",
       "    <tr>\n",
       "      <th>2</th>\n",
       "      <td>Mohamed Salah</td>\n",
       "      <td>FW</td>\n",
       "      <td>1992</td>\n",
       "      <td>no. 11</td>\n",
       "      <td>Egypt</td>\n",
       "    </tr>\n",
       "    <tr>\n",
       "      <th>3</th>\n",
       "      <td>Joe Gomez</td>\n",
       "      <td>DF</td>\n",
       "      <td>1997</td>\n",
       "      <td>no. 12</td>\n",
       "      <td>England</td>\n",
       "    </tr>\n",
       "    <tr>\n",
       "      <th>4</th>\n",
       "      <td>Alisson Becker</td>\n",
       "      <td>GK</td>\n",
       "      <td>1992</td>\n",
       "      <td>no. 13</td>\n",
       "      <td>Brazil</td>\n",
       "    </tr>\n",
       "  </tbody>\n",
       "</table>\n",
       "</div>"
      ],
      "text/plain": [
       "              Name Position  Born  Number Nationality\n",
       "0  Roberto Firmino       FW  1991   no. 9      Brazil\n",
       "1       Sadio Mane       FW  1992  no. 10     Senegal\n",
       "2    Mohamed Salah       FW  1992  no. 11       Egypt\n",
       "3        Joe Gomez       DF  1997  no. 12     England\n",
       "4   Alisson Becker       GK  1992  no. 13      Brazil"
      ]
     },
     "execution_count": 2,
     "metadata": {},
     "output_type": "execute_result"
    }
   ],
   "source": [
    "df"
   ]
  },
  {
   "cell_type": "code",
   "execution_count": null,
   "id": "wooden-spotlight",
   "metadata": {},
   "outputs": [],
   "source": []
  }
 ],
 "metadata": {
  "kernelspec": {
   "display_name": "Python 3",
   "language": "python",
   "name": "python3"
  },
  "language_info": {
   "codemirror_mode": {
    "name": "ipython",
    "version": 3
   },
   "file_extension": ".py",
   "mimetype": "text/x-python",
   "name": "python",
   "nbconvert_exporter": "python",
   "pygments_lexer": "ipython3",
   "version": "3.9.1"
  }
 },
 "nbformat": 4,
 "nbformat_minor": 5
}
