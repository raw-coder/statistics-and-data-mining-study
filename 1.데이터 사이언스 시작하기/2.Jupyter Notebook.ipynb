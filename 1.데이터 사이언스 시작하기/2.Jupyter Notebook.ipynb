{
 "cells": [
  {
   "cell_type": "markdown",
   "id": "ordinary-matthew",
   "metadata": {},
   "source": [
    "# Title\n",
    "## Title2\n",
    "### title 3\n",
    "\n",
    "Hello World"
   ]
  },
  {
   "cell_type": "markdown",
   "id": "excess-panel",
   "metadata": {},
   "source": [
    "This is **Bold** *italic*"
   ]
  },
  {
   "cell_type": "markdown",
   "id": "harmful-blowing",
   "metadata": {},
   "source": [
    "List\n",
    "* item 1\n",
    "* item 2"
   ]
  },
  {
   "cell_type": "code",
   "execution_count": 1,
   "id": "functioning-ultimate",
   "metadata": {},
   "outputs": [],
   "source": [
    "x = 17\n"
   ]
  },
  {
   "cell_type": "code",
   "execution_count": 2,
   "id": "graduate-spray",
   "metadata": {},
   "outputs": [
    {
     "name": "stdout",
     "output_type": "stream",
     "text": [
      "17\n"
     ]
    }
   ],
   "source": [
    "print(x)"
   ]
  },
  {
   "cell_type": "code",
   "execution_count": 3,
   "id": "miniature-stylus",
   "metadata": {},
   "outputs": [
    {
     "data": {
      "text/plain": [
       "17"
      ]
     },
     "execution_count": 3,
     "metadata": {},
     "output_type": "execute_result"
    }
   ],
   "source": [
    "x"
   ]
  },
  {
   "cell_type": "code",
   "execution_count": 4,
   "id": "dried-party",
   "metadata": {},
   "outputs": [
    {
     "data": {
      "text/plain": [
       "17"
      ]
     },
     "execution_count": 4,
     "metadata": {},
     "output_type": "execute_result"
    }
   ],
   "source": [
    "x\n",
    "x\n",
    "x"
   ]
  }
 ],
 "metadata": {
  "kernelspec": {
   "display_name": "Python 3",
   "language": "python",
   "name": "python3"
  },
  "language_info": {
   "codemirror_mode": {
    "name": "ipython",
    "version": 3
   },
   "file_extension": ".py",
   "mimetype": "text/x-python",
   "name": "python",
   "nbconvert_exporter": "python",
   "pygments_lexer": "ipython3",
   "version": "3.9.1"
  }
 },
 "nbformat": 4,
 "nbformat_minor": 5
}
